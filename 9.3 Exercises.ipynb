{
 "cells": [
  {
   "cell_type": "code",
   "execution_count": null,
   "metadata": {},
   "outputs": [],
   "source": [
    "# Para crear el archivo de video es necesario instalar ffmpeg\n",
    "\n",
    "#! ffmpeg -i tmp_%04d.png -r 4 -vcodec flv movie.flv"
   ]
  },
  {
   "cell_type": "markdown",
   "metadata": {},
   "source": [
    "Ejercicio 9.6"
   ]
  },
  {
   "cell_type": "markdown",
   "metadata": {},
   "source": [
    "Solve the following diffusion problem.\n",
    "\n",
    "$$ \\frac{\\partial u}{\\partial t} = \\beta \\frac{\\partial^{2} u}{\\partial x^{2}}$$\n",
    "con $x\\in (-1,1)$ y $t \\in (0,T]$\n",
    "\n",
    "$$ u(x,0) = \\frac{1}{\\sqrt{2\\pi} \\sigma} \\exp{ \\left( -\\frac{x^2}{2 \\sigma^2} \\right)}$$ con $x\\in [-1,1]$\n",
    "\n",
    "$$ \\frac{\\partial}{\\partial x} u(-1,t) = 0$$ $t \\in (0,T]$\n",
    "\n",
    "$$ \\frac{\\partial}{\\partial x} u(1,t) = 0$$ $t \\in (0,T]$"
   ]
  },
  {
   "cell_type": "markdown",
   "metadata": {},
   "source": [
    "$\\sigma = 0.01$"
   ]
  },
  {
   "cell_type": "code",
   "execution_count": 4,
   "metadata": {},
   "outputs": [
    {
     "data": {
      "image/png": "[encoded data removed]",
      "text/plain": [
       "<Figure size 432x288 with 1 Axes>"
      ]
     },
     "metadata": {
      "needs_background": "light"
     },
     "output_type": "display_data"
    }
   ],
   "source": [
    "# Resolver la PDE con FE\n",
    "\n",
    "import numpy as np\n",
    "from math import pi, sqrt\n",
    "\n",
    "np.set_printoptions(precision=4)\n",
    "\n",
    "def I(x):\n",
    "    \"\"\"\n",
    "    Condición inicial\n",
    "    \"\"\"\n",
    "    return (1/(sqrt(2*pi)*sigma))*np.exp(-(x**2/(2*sigma**2)))\n",
    "\n",
    "# Hay tantas ecuaciones u_i como puntos en la malla de X. \n",
    "# Pasamos el sistema de N+1 ecuaciones a un arreglo HRS donde cada entrada es una du_i dt\n",
    "\n",
    "def rhs(u, t): # Este array es la f(U,t)\n",
    "    N = len(u) - 1\n",
    "    rhs = np.zeros(N+1) # Cada entrada es una ecuación del sistema: un escalar\n",
    "    rhs[0] = (2*beta/dx**2)*(u[1] - u[0])\n",
    "    for i in range(1,N):\n",
    "        rhs[i] = (beta/dx**2)*(u[i+1] - 2*u[i] + u[i-1])\n",
    "    rhs[N] = (2*beta/dx**2)*(u[N-1] - u[N])\n",
    "    return rhs # Regresamos un array de escalares.\n",
    "\n",
    "def diffusionGAUSS_RK4():\n",
    "    global beta, dx, x, sigma  # needed in rhs\n",
    "    beta = 0.00001\n",
    "    sigma = 0.01\n",
    "    N = 40 # Malla de 41 puntos\n",
    "    x = np.linspace(-1, 1, N+1)\n",
    "    dx = x[1] - x[0]\n",
    "    u = np.zeros(N+1) # Array para la solución del sistema\n",
    "\n",
    "    U_0 = np.zeros(N+1) # Array para condiciones iniciales\n",
    "    U_0[:] = I(x)\n",
    "    dt = 0.1\n",
    "    # print(dt)\n",
    "    T = 60*60 # Simulamos por 1 hora\n",
    "    \n",
    "    # Resolvemos usando FEu\n",
    "    from ode_system_FE import ode_FE\n",
    "    u, t = ode_FE(rhs, U_0, dt, T)\n",
    "    \n",
    "    # Make movie\n",
    "    import os\n",
    "    os.system('rm tmp_*.png') # Execute the command (a string) in a subshell.\n",
    "    import matplotlib.pyplot as plt\n",
    "    plt.ion() # Turn the Interactive mode ON.\n",
    "    y = u[0,:] # Valores de x para t = 0\n",
    "    lines = plt.plot(x, y) # Graficamos (x,solx) para t = 0 \n",
    "    plt.axis([x[0], x[-1], I(-1)-20, I(1)+50])\n",
    "    plt.xlabel('x')\n",
    "    plt.ylabel('u(x,t)')\n",
    "    counter = 0\n",
    "    # Plot each of the first 100 frames, then increase speed by 10x\n",
    "    change_speed = 10\n",
    "    for i in range(0, u.shape[0]): # Iteramos sobre el número de divisions en el tiempo\n",
    "        #print(t[i])\n",
    "        plot = True if i <= change_speed else i % 10 == 0\n",
    "        lines[0].set_ydata(u[i,:])\n",
    "        # Asignamos etiquetas adecuadas para cada gráfica\n",
    "        if i > change_speed:\n",
    "            plt.legend(['t={:.0f} 10x'.format(t[i])])\n",
    "        else:\n",
    "            plt.legend(['t={:.0f}'.format(t[i])])\n",
    "        # Las dibujamos\n",
    "        plt.draw()\n",
    "        if plot:\n",
    "            plt.savefig('tmp_{:04d}.png'.format(counter))\n",
    "            counter += 1\n",
    "        #time.sleep(0.2)\n",
    "    \n",
    "    \"\"\"\n",
    "    print(\"u(x,t)    \", end=\"\")\n",
    "    for j in range(len(x)):\n",
    "        print(f\" x={x[j]} \", end=\"\")\n",
    "    print(\"\")\n",
    "    for i in range(int(round(T/dt)) + 1):\n",
    "        print(f\"u(x,{t[i]:1.1f}): {u[i]:} \")\n",
    "        \n",
    "    print(\"**************\")\n",
    "    \n",
    "    print(\"time: \", t)\n",
    "    \n",
    "    print(\"u.shape[0]= \", u.shape[0])\n",
    "    \"\"\"\n",
    "        \n",
    "diffusionGAUSS_RK4()"
   ]
  },
  {
   "cell_type": "code",
   "execution_count": null,
   "metadata": {},
   "outputs": [],
   "source": []
  }
 ],
 "metadata": {
  "kernelspec": {
   "display_name": "Python 3",
   "language": "python",
   "name": "python3"
  },
  "language_info": {
   "codemirror_mode": {
    "name": "ipython",
    "version": 3
   },
   "file_extension": ".py",
   "mimetype": "text/x-python",
   "name": "python",
   "nbconvert_exporter": "python",
   "pygments_lexer": "ipython3",
   "version": "3.7.7"
  }
 },
 "nbformat": 4,
 "nbformat_minor": 4
}
